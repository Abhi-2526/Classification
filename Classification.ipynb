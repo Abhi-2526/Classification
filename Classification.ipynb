{
  "nbformat": 4,
  "nbformat_minor": 0,
  "metadata": {
    "colab": {
      "provenance": []
    },
    "kernelspec": {
      "name": "python3",
      "display_name": "Python 3"
    },
    "language_info": {
      "name": "python"
    }
  },
  "cells": [
    {
      "cell_type": "code",
      "source": [
        "from google.colab import files\n",
        "\n",
        "# Upload a file from your local machine to Colab\n",
        "uploaded = files.upload()"
      ],
      "metadata": {
        "colab": {
          "base_uri": "https://localhost:8080/",
          "height": 426
        },
        "id": "yvgWsQ2mRiUA",
        "outputId": "7d111961-fd01-403c-e2da-1f1493e65089"
      },
      "execution_count": 2,
      "outputs": [
        {
          "output_type": "display_data",
          "data": {
            "text/plain": [
              "<IPython.core.display.HTML object>"
            ],
            "text/html": [
              "\n",
              "     <input type=\"file\" id=\"files-4e9e78d9-41b9-42cd-9de9-d8ebf63f9960\" name=\"files[]\" multiple disabled\n",
              "        style=\"border:none\" />\n",
              "     <output id=\"result-4e9e78d9-41b9-42cd-9de9-d8ebf63f9960\">\n",
              "      Upload widget is only available when the cell has been executed in the\n",
              "      current browser session. Please rerun this cell to enable.\n",
              "      </output>\n",
              "      <script>// Copyright 2017 Google LLC\n",
              "//\n",
              "// Licensed under the Apache License, Version 2.0 (the \"License\");\n",
              "// you may not use this file except in compliance with the License.\n",
              "// You may obtain a copy of the License at\n",
              "//\n",
              "//      http://www.apache.org/licenses/LICENSE-2.0\n",
              "//\n",
              "// Unless required by applicable law or agreed to in writing, software\n",
              "// distributed under the License is distributed on an \"AS IS\" BASIS,\n",
              "// WITHOUT WARRANTIES OR CONDITIONS OF ANY KIND, either express or implied.\n",
              "// See the License for the specific language governing permissions and\n",
              "// limitations under the License.\n",
              "\n",
              "/**\n",
              " * @fileoverview Helpers for google.colab Python module.\n",
              " */\n",
              "(function(scope) {\n",
              "function span(text, styleAttributes = {}) {\n",
              "  const element = document.createElement('span');\n",
              "  element.textContent = text;\n",
              "  for (const key of Object.keys(styleAttributes)) {\n",
              "    element.style[key] = styleAttributes[key];\n",
              "  }\n",
              "  return element;\n",
              "}\n",
              "\n",
              "// Max number of bytes which will be uploaded at a time.\n",
              "const MAX_PAYLOAD_SIZE = 100 * 1024;\n",
              "\n",
              "function _uploadFiles(inputId, outputId) {\n",
              "  const steps = uploadFilesStep(inputId, outputId);\n",
              "  const outputElement = document.getElementById(outputId);\n",
              "  // Cache steps on the outputElement to make it available for the next call\n",
              "  // to uploadFilesContinue from Python.\n",
              "  outputElement.steps = steps;\n",
              "\n",
              "  return _uploadFilesContinue(outputId);\n",
              "}\n",
              "\n",
              "// This is roughly an async generator (not supported in the browser yet),\n",
              "// where there are multiple asynchronous steps and the Python side is going\n",
              "// to poll for completion of each step.\n",
              "// This uses a Promise to block the python side on completion of each step,\n",
              "// then passes the result of the previous step as the input to the next step.\n",
              "function _uploadFilesContinue(outputId) {\n",
              "  const outputElement = document.getElementById(outputId);\n",
              "  const steps = outputElement.steps;\n",
              "\n",
              "  const next = steps.next(outputElement.lastPromiseValue);\n",
              "  return Promise.resolve(next.value.promise).then((value) => {\n",
              "    // Cache the last promise value to make it available to the next\n",
              "    // step of the generator.\n",
              "    outputElement.lastPromiseValue = value;\n",
              "    return next.value.response;\n",
              "  });\n",
              "}\n",
              "\n",
              "/**\n",
              " * Generator function which is called between each async step of the upload\n",
              " * process.\n",
              " * @param {string} inputId Element ID of the input file picker element.\n",
              " * @param {string} outputId Element ID of the output display.\n",
              " * @return {!Iterable<!Object>} Iterable of next steps.\n",
              " */\n",
              "function* uploadFilesStep(inputId, outputId) {\n",
              "  const inputElement = document.getElementById(inputId);\n",
              "  inputElement.disabled = false;\n",
              "\n",
              "  const outputElement = document.getElementById(outputId);\n",
              "  outputElement.innerHTML = '';\n",
              "\n",
              "  const pickedPromise = new Promise((resolve) => {\n",
              "    inputElement.addEventListener('change', (e) => {\n",
              "      resolve(e.target.files);\n",
              "    });\n",
              "  });\n",
              "\n",
              "  const cancel = document.createElement('button');\n",
              "  inputElement.parentElement.appendChild(cancel);\n",
              "  cancel.textContent = 'Cancel upload';\n",
              "  const cancelPromise = new Promise((resolve) => {\n",
              "    cancel.onclick = () => {\n",
              "      resolve(null);\n",
              "    };\n",
              "  });\n",
              "\n",
              "  // Wait for the user to pick the files.\n",
              "  const files = yield {\n",
              "    promise: Promise.race([pickedPromise, cancelPromise]),\n",
              "    response: {\n",
              "      action: 'starting',\n",
              "    }\n",
              "  };\n",
              "\n",
              "  cancel.remove();\n",
              "\n",
              "  // Disable the input element since further picks are not allowed.\n",
              "  inputElement.disabled = true;\n",
              "\n",
              "  if (!files) {\n",
              "    return {\n",
              "      response: {\n",
              "        action: 'complete',\n",
              "      }\n",
              "    };\n",
              "  }\n",
              "\n",
              "  for (const file of files) {\n",
              "    const li = document.createElement('li');\n",
              "    li.append(span(file.name, {fontWeight: 'bold'}));\n",
              "    li.append(span(\n",
              "        `(${file.type || 'n/a'}) - ${file.size} bytes, ` +\n",
              "        `last modified: ${\n",
              "            file.lastModifiedDate ? file.lastModifiedDate.toLocaleDateString() :\n",
              "                                    'n/a'} - `));\n",
              "    const percent = span('0% done');\n",
              "    li.appendChild(percent);\n",
              "\n",
              "    outputElement.appendChild(li);\n",
              "\n",
              "    const fileDataPromise = new Promise((resolve) => {\n",
              "      const reader = new FileReader();\n",
              "      reader.onload = (e) => {\n",
              "        resolve(e.target.result);\n",
              "      };\n",
              "      reader.readAsArrayBuffer(file);\n",
              "    });\n",
              "    // Wait for the data to be ready.\n",
              "    let fileData = yield {\n",
              "      promise: fileDataPromise,\n",
              "      response: {\n",
              "        action: 'continue',\n",
              "      }\n",
              "    };\n",
              "\n",
              "    // Use a chunked sending to avoid message size limits. See b/62115660.\n",
              "    let position = 0;\n",
              "    do {\n",
              "      const length = Math.min(fileData.byteLength - position, MAX_PAYLOAD_SIZE);\n",
              "      const chunk = new Uint8Array(fileData, position, length);\n",
              "      position += length;\n",
              "\n",
              "      const base64 = btoa(String.fromCharCode.apply(null, chunk));\n",
              "      yield {\n",
              "        response: {\n",
              "          action: 'append',\n",
              "          file: file.name,\n",
              "          data: base64,\n",
              "        },\n",
              "      };\n",
              "\n",
              "      let percentDone = fileData.byteLength === 0 ?\n",
              "          100 :\n",
              "          Math.round((position / fileData.byteLength) * 100);\n",
              "      percent.textContent = `${percentDone}% done`;\n",
              "\n",
              "    } while (position < fileData.byteLength);\n",
              "  }\n",
              "\n",
              "  // All done.\n",
              "  yield {\n",
              "    response: {\n",
              "      action: 'complete',\n",
              "    }\n",
              "  };\n",
              "}\n",
              "\n",
              "scope.google = scope.google || {};\n",
              "scope.google.colab = scope.google.colab || {};\n",
              "scope.google.colab._files = {\n",
              "  _uploadFiles,\n",
              "  _uploadFilesContinue,\n",
              "};\n",
              "})(self);\n",
              "</script> "
            ]
          },
          "metadata": {}
        },
        {
          "output_type": "stream",
          "name": "stdout",
          "text": [
            "Saving 0-Annotated.json to 0-Annotated.json\n",
            "Saving 1-Annotated.json to 1-Annotated.json\n",
            "Saving 2-Annotated.json to 2-Annotated.json\n",
            "Saving 3-Annotated.json to 3-Annotated.json\n",
            "Saving 4-Annotated.json to 4-Annotated.json\n",
            "Saving 5-Annotated.json to 5-Annotated.json\n",
            "Saving 6-Annotated.json to 6-Annotated.json\n",
            "Saving 7-Annotated.json to 7-Annotated.json\n",
            "Saving 8-Annotated.json to 8-Annotated.json\n",
            "Saving 9-Annotated.json to 9-Annotated.json\n",
            "Saving 10-Annotated.json to 10-Annotated.json\n"
          ]
        }
      ]
    },
    {
      "cell_type": "code",
      "source": [
        "file_paths = [f\"{i}-Annotated.json\" for i in range(0, 11)]\n",
        "\n",
        "import json\n",
        "\n",
        "file_content_dict = {}\n",
        "for i, file_path in enumerate(file_paths):\n",
        "  with open(file_path, 'r') as file:\n",
        "      file_content = file.read()\n",
        "      file_content_dict[i] = json.loads(file_content)\n",
        "# papers for hand gesture capture/data acquisition\n",
        "# existing hand gestures datasets\n",
        "# leap motion controller based datasets\n",
        "# understand leap motion sensor working"
      ],
      "metadata": {
        "id": "EFx2mLGNTJ5X"
      },
      "execution_count": 72,
      "outputs": []
    },
    {
      "cell_type": "code",
      "source": [
        "import pandas as pd\n",
        "\n",
        "data_list = []\n",
        "for i in range(0, 11):\n",
        "  for j in range(0, len(file_content_dict[i])):\n",
        "    data_list.append(file_content_dict[i][j])\n",
        "\n",
        "features_list = []\n",
        "labels_list = []\n",
        "for data_point in data_list:\n",
        "    features = []\n",
        "    features.extend(data_point[\"FrameData\"][0][\"HandPosition\"])\n",
        "    features.extend(data_point[\"FrameData\"][0][\"HandRotation\"])\n",
        "    finger_positions = data_point[\"FrameData\"][0][\"FingerPositions\"]\n",
        "    for position in finger_positions:\n",
        "        features.extend(position)\n",
        "\n",
        "    hand_id = data_point[\"FrameData\"][0][\"HandID\"]\n",
        "    features.append(hand_id)\n",
        "\n",
        "    orientation = data_point[\"FrameData\"][0][\"HandOrientation\"]\n",
        "    features.append(orientation)\n",
        "\n",
        "    label = data_point[\"Gesture\"]\n",
        "\n",
        "    features_list.append(features)\n",
        "    labels_list.append(label)\n",
        "\n",
        "feature_names = [\"HandPositionX\", \"HandPositionY\", \"HandPositionZ\",\n",
        "                 \"HandRotation1\", \"HandRotation2\", \"HandRotation3\", \"HandRotation4\"]\n",
        "for i in range(1, 6):\n",
        "    feature_names.extend([f\"FingerPosition{i}X\", f\"FingerPosition{i}Y\", f\"FingerPosition{i}Z\"])\n",
        "\n",
        "feature_names.append(\"HandID\")\n",
        "feature_names.append(\"HandOrientation\")\n",
        "df = pd.DataFrame(features_list, columns=feature_names)\n",
        "df[\"Gesture\"] = labels_list\n",
        "\n",
        "df = pd.get_dummies(df, columns=[\"HandOrientation\", \"HandID\"])\n",
        "df = df.sample(frac = 1)\n"
      ],
      "metadata": {
        "id": "tl9kap75k2OM"
      },
      "execution_count": 73,
      "outputs": []
    },
    {
      "cell_type": "code",
      "source": [
        "from sklearn.model_selection import train_test_split\n",
        "from sklearn.utils import shuffle\n",
        "from sklearn.preprocessing import LabelEncoder, StandardScaler\n",
        "\n",
        "X = df.drop(columns=[\"Gesture\"])\n",
        "y = df[\"Gesture\"]\n",
        "\n",
        "X, y = shuffle(X, y)\n",
        "\n",
        "scaler = StandardScaler()\n",
        "X = pd.DataFrame(scaler.fit_transform(X), columns=X.columns)\n",
        "\n",
        "le = LabelEncoder()\n",
        "y = pd.Series(le.fit_transform(y))\n",
        "\n",
        "X_train = pd.DataFrame(columns=X.columns)\n",
        "X_test = pd.DataFrame(columns=X.columns)\n",
        "y_train = pd.Series(dtype=\"str\")\n",
        "y_test = pd.Series(dtype=\"str\")\n",
        "\n",
        "test_size = 0.2\n",
        "\n",
        "unique_labels = y.unique()\n",
        "for label in unique_labels:\n",
        "    label_data_X = X[y.reindex(X.index) == label]\n",
        "    label_data_y = y[y.reindex(X.index) == label]\n",
        "\n",
        "    X_label_train, X_label_test, y_label_train, y_label_test = train_test_split(\n",
        "        label_data_X, label_data_y, test_size=test_size)\n",
        "\n",
        "    X_train = pd.concat([X_train, X_label_train])\n",
        "    X_test = pd.concat([X_test, X_label_test])\n",
        "    y_train = pd.concat([y_train, y_label_train])\n",
        "    y_test = pd.concat([y_test, y_label_test])\n"
      ],
      "metadata": {
        "id": "3QnWLjZjyK1J"
      },
      "execution_count": 80,
      "outputs": []
    },
    {
      "cell_type": "code",
      "source": [
        "from sklearn.svm import SVC\n",
        "from sklearn import metrics\n",
        "from sklearn.metrics import confusion_matrix\n",
        "\n",
        "clf = SVC()\n",
        "\n",
        "clf.fit(X_train, y_train)\n",
        "\n",
        "y_pred = clf.predict(X_test)\n",
        "\n",
        "y_train_pred = clf.predict(X_train)\n",
        "# cm = confusion_matrix(y_test, y_pred)\n",
        "# print(cm)\n",
        "print(\"Training Accuracy:\",metrics.accuracy_score(y_train, y_train_pred))\n",
        "print(\"Accuracy:\",metrics.accuracy_score(y_test, y_pred))"
      ],
      "metadata": {
        "colab": {
          "base_uri": "https://localhost:8080/"
        },
        "id": "YmsrYVoebHCn",
        "outputId": "194e4524-6478-4090-e8ea-ee637547d8cc"
      },
      "execution_count": 81,
      "outputs": [
        {
          "output_type": "stream",
          "name": "stdout",
          "text": [
            "Training Accuracy: 0.9953271028037384\n",
            "Accuracy: 0.9814814814814815\n"
          ]
        }
      ]
    },
    {
      "cell_type": "code",
      "source": [
        "from sklearn.tree import DecisionTreeClassifier\n",
        "\n",
        "clf = DecisionTreeClassifier()\n",
        "\n",
        "clf = clf.fit(X_train,y_train)\n",
        "\n",
        "y_pred = clf.predict(X_test)\n",
        "\n",
        "y_train_pred = clf.predict(X_train)\n",
        "\n",
        "print(\"Training Accuracy:\",metrics.accuracy_score(y_train, y_train_pred))\n",
        "print(\"Accuracy:\",metrics.accuracy_score(y_test, y_pred))"
      ],
      "metadata": {
        "colab": {
          "base_uri": "https://localhost:8080/"
        },
        "id": "okRei9_LcTyk",
        "outputId": "6d7d7040-6a70-492d-de77-eedd857391a9"
      },
      "execution_count": 82,
      "outputs": [
        {
          "output_type": "stream",
          "name": "stdout",
          "text": [
            "Training Accuracy: 1.0\n",
            "Accuracy: 0.9444444444444444\n"
          ]
        }
      ]
    },
    {
      "cell_type": "code",
      "source": [
        "from sklearn.linear_model import LogisticRegression\n",
        "\n",
        "clf = LogisticRegression()\n",
        "\n",
        "clf = clf.fit(X_train, y_train)\n",
        "\n",
        "y_pred = clf.predict(X_test)\n",
        "\n",
        "y_train_pred = clf.predict(X_train)\n",
        "\n",
        "print(\"Training Accuracy:\",metrics.accuracy_score(y_train, y_train_pred))\n",
        "print(\"Accuracy:\",metrics.accuracy_score(y_test, y_pred))"
      ],
      "metadata": {
        "colab": {
          "base_uri": "https://localhost:8080/"
        },
        "id": "z7vnEidkq67N",
        "outputId": "e51b0c0d-0881-4c25-9e8b-6021f0718b49"
      },
      "execution_count": 83,
      "outputs": [
        {
          "output_type": "stream",
          "name": "stdout",
          "text": [
            "Training Accuracy: 1.0\n",
            "Accuracy: 1.0\n"
          ]
        }
      ]
    },
    {
      "cell_type": "code",
      "source": [
        "from sklearn.neighbors import KNeighborsClassifier\n",
        "\n",
        "clf = KNeighborsClassifier()\n",
        "\n",
        "clf = clf.fit(X_train, y_train)\n",
        "\n",
        "y_pred = clf.predict(X_test)\n",
        "\n",
        "y_train_pred = clf.predict(X_train)\n",
        "\n",
        "print(\"Training Accuracy:\",metrics.accuracy_score(y_train, y_train_pred))\n",
        "print(\"Accuracy:\",metrics.accuracy_score(y_test, y_pred))"
      ],
      "metadata": {
        "colab": {
          "base_uri": "https://localhost:8080/"
        },
        "id": "ADa5xceUrVI7",
        "outputId": "b63ab987-2e4c-433d-ae87-3fc5b2cc4a6e"
      },
      "execution_count": 84,
      "outputs": [
        {
          "output_type": "stream",
          "name": "stdout",
          "text": [
            "Training Accuracy: 0.985981308411215\n",
            "Accuracy: 0.9444444444444444\n"
          ]
        }
      ]
    },
    {
      "cell_type": "code",
      "source": [
        "from sklearn.ensemble import RandomForestClassifier\n",
        "\n",
        "clf = RandomForestClassifier()\n",
        "\n",
        "clf = clf.fit(X_train, y_train)\n",
        "\n",
        "y_pred = clf.predict(X_test)\n",
        "\n",
        "y_train_pred = clf.predict(X_train)\n",
        "\n",
        "print(\"Training Accuracy:\",metrics.accuracy_score(y_train, y_train_pred))\n",
        "print(\"Accuracy:\",metrics.accuracy_score(y_test, y_pred))"
      ],
      "metadata": {
        "colab": {
          "base_uri": "https://localhost:8080/"
        },
        "id": "aDZfhOeMt4z0",
        "outputId": "f4c71bc8-c53d-4e16-ffe1-aa7e86b998b9"
      },
      "execution_count": 85,
      "outputs": [
        {
          "output_type": "stream",
          "name": "stdout",
          "text": [
            "Training Accuracy: 1.0\n",
            "Accuracy: 0.9629629629629629\n"
          ]
        }
      ]
    },
    {
      "cell_type": "code",
      "source": [],
      "metadata": {
        "id": "KH6MYNydwn8g"
      },
      "execution_count": null,
      "outputs": []
    }
  ]
}